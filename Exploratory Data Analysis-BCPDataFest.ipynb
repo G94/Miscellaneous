{
 "cells": [
  {
   "cell_type": "code",
   "execution_count": 1,
   "metadata": {
    "collapsed": true
   },
   "outputs": [],
   "source": [
    "import  pandas as pd\n",
    "import numpy as np\n",
    "import matplotlib as plt\n",
    "dataset=pd.read_csv('data.csv')"
   ]
  },
  {
   "cell_type": "code",
   "execution_count": 3,
   "metadata": {},
   "outputs": [
    {
     "name": "stdout",
     "output_type": "stream",
     "text": [
      "<class 'pandas.core.frame.DataFrame'>\n",
      "RangeIndex: 5000 entries, 0 to 4999\n",
      "Data columns (total 10 columns):\n",
      "ID               5000 non-null int64\n",
      "riesgo           5000 non-null int64\n",
      "edad             5000 non-null int64\n",
      "meses            5000 non-null int64\n",
      "max_ant          5000 non-null int64\n",
      "ingreso          5000 non-null float64\n",
      "score            5000 non-null int64\n",
      "tipo_vivienda    5000 non-null int64\n",
      "zona             5000 non-null int64\n",
      "nivel            5000 non-null int64\n",
      "dtypes: float64(1), int64(9)\n",
      "memory usage: 390.7 KB\n"
     ]
    }
   ],
   "source": [
    "dataset.info()"
   ]
  },
  {
   "cell_type": "code",
   "execution_count": 4,
   "metadata": {},
   "outputs": [
    {
     "data": {
      "text/html": [
       "<div>\n",
       "<style>\n",
       "    .dataframe thead tr:only-child th {\n",
       "        text-align: right;\n",
       "    }\n",
       "\n",
       "    .dataframe thead th {\n",
       "        text-align: left;\n",
       "    }\n",
       "\n",
       "    .dataframe tbody tr th {\n",
       "        vertical-align: top;\n",
       "    }\n",
       "</style>\n",
       "<table border=\"1\" class=\"dataframe\">\n",
       "  <thead>\n",
       "    <tr style=\"text-align: right;\">\n",
       "      <th></th>\n",
       "      <th>ID</th>\n",
       "      <th>riesgo</th>\n",
       "      <th>edad</th>\n",
       "      <th>meses</th>\n",
       "      <th>max_ant</th>\n",
       "      <th>ingreso</th>\n",
       "      <th>score</th>\n",
       "      <th>tipo_vivienda</th>\n",
       "      <th>zona</th>\n",
       "      <th>nivel</th>\n",
       "    </tr>\n",
       "  </thead>\n",
       "  <tbody>\n",
       "    <tr>\n",
       "      <th>0</th>\n",
       "      <td>1</td>\n",
       "      <td>0</td>\n",
       "      <td>30</td>\n",
       "      <td>121</td>\n",
       "      <td>93</td>\n",
       "      <td>3500.0</td>\n",
       "      <td>214</td>\n",
       "      <td>2</td>\n",
       "      <td>1</td>\n",
       "      <td>2</td>\n",
       "    </tr>\n",
       "    <tr>\n",
       "      <th>1</th>\n",
       "      <td>2</td>\n",
       "      <td>0</td>\n",
       "      <td>32</td>\n",
       "      <td>149</td>\n",
       "      <td>9</td>\n",
       "      <td>900.0</td>\n",
       "      <td>175</td>\n",
       "      <td>2</td>\n",
       "      <td>3</td>\n",
       "      <td>5</td>\n",
       "    </tr>\n",
       "    <tr>\n",
       "      <th>2</th>\n",
       "      <td>3</td>\n",
       "      <td>0</td>\n",
       "      <td>26</td>\n",
       "      <td>167</td>\n",
       "      <td>8</td>\n",
       "      <td>2400.0</td>\n",
       "      <td>187</td>\n",
       "      <td>2</td>\n",
       "      <td>1</td>\n",
       "      <td>2</td>\n",
       "    </tr>\n",
       "    <tr>\n",
       "      <th>3</th>\n",
       "      <td>4</td>\n",
       "      <td>0</td>\n",
       "      <td>36</td>\n",
       "      <td>168</td>\n",
       "      <td>20</td>\n",
       "      <td>2700.0</td>\n",
       "      <td>187</td>\n",
       "      <td>2</td>\n",
       "      <td>3</td>\n",
       "      <td>5</td>\n",
       "    </tr>\n",
       "    <tr>\n",
       "      <th>4</th>\n",
       "      <td>5</td>\n",
       "      <td>0</td>\n",
       "      <td>46</td>\n",
       "      <td>128</td>\n",
       "      <td>0</td>\n",
       "      <td>3100.0</td>\n",
       "      <td>189</td>\n",
       "      <td>2</td>\n",
       "      <td>1</td>\n",
       "      <td>5</td>\n",
       "    </tr>\n",
       "  </tbody>\n",
       "</table>\n",
       "</div>"
      ],
      "text/plain": [
       "   ID  riesgo  edad  meses  max_ant  ingreso  score  tipo_vivienda  zona  \\\n",
       "0   1       0    30    121       93   3500.0    214              2     1   \n",
       "1   2       0    32    149        9    900.0    175              2     3   \n",
       "2   3       0    26    167        8   2400.0    187              2     1   \n",
       "3   4       0    36    168       20   2700.0    187              2     3   \n",
       "4   5       0    46    128        0   3100.0    189              2     1   \n",
       "\n",
       "   nivel  \n",
       "0      2  \n",
       "1      5  \n",
       "2      2  \n",
       "3      5  \n",
       "4      5  "
      ]
     },
     "execution_count": 4,
     "metadata": {},
     "output_type": "execute_result"
    }
   ],
   "source": [
    "dataset.head()"
   ]
  },
  {
   "cell_type": "code",
   "execution_count": null,
   "metadata": {
    "collapsed": true
   },
   "outputs": [],
   "source": []
  }
 ],
 "metadata": {
  "kernelspec": {
   "display_name": "Python 3",
   "language": "python",
   "name": "python3"
  },
  "language_info": {
   "codemirror_mode": {
    "name": "ipython",
    "version": 3
   },
   "file_extension": ".py",
   "mimetype": "text/x-python",
   "name": "python",
   "nbconvert_exporter": "python",
   "pygments_lexer": "ipython3",
   "version": "3.6.1"
  }
 },
 "nbformat": 4,
 "nbformat_minor": 1
}
