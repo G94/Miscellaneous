{
  "cells": [
    {
      "metadata": {
        "_uuid": "8f2839f25d086af736a60e9eeb907d3b93b6e0e5",
        "_cell_guid": "b1076dfc-b9ad-4769-8c92-a6c4dae69d19",
        "trusted": true
      },
      "cell_type": "code",
      "source": "import numpy as np # linear algebra\nimport pandas as pd # data processing, CSV file I/O (e.g. pd.read_csv)\nimport seaborn as sns\nimport matplotlib.pyplot as plt\n\nimport os\nimport warnings\nprint(os.listdir(\"../input\"))\n\n\nwarnings.filterwarnings('ignore')\npd.options.display.float_format = '{:20,.2f}'.format\n%matplotlib inline",
      "execution_count": 1,
      "outputs": [
        {
          "output_type": "stream",
          "text": "['road-weather-information-stations.csv', 'RWIS Metadata.docx', 'socrata_metadata.json']\n",
          "name": "stdout"
        }
      ]
    },
    {
      "metadata": {
        "trusted": true,
        "_uuid": "e9d108b4bbfd09c433590b87798678aa562cc1b9"
      },
      "cell_type": "code",
      "source": "data = pd.read_csv(\"../input/road-weather-information-stations.csv\", parse_dates=[2])",
      "execution_count": 2,
      "outputs": []
    },
    {
      "metadata": {
        "_uuid": "9e1989e9139dbc9d0354f808d804b68072a538f5"
      },
      "cell_type": "markdown",
      "source": " Let's check the columns and their types"
    },
    {
      "metadata": {
        "trusted": true,
        "_uuid": "5d85465a27a8357fcd59776222cc799d253083f1"
      },
      "cell_type": "code",
      "source": "data.shape",
      "execution_count": null,
      "outputs": []
    },
    {
      "metadata": {
        "trusted": true,
        "scrolled": true,
        "_uuid": "501d598bed0ce25e0303d11c66eca0086556da11"
      },
      "cell_type": "code",
      "source": "data.head()",
      "execution_count": null,
      "outputs": []
    },
    {
      "metadata": {
        "_cell_guid": "79c7e3d0-c299-4dcb-8224-4455121ee9b0",
        "_uuid": "d629ff2d2480ee46fbb7e2d37f6b5fab8052498a",
        "trusted": true
      },
      "cell_type": "code",
      "source": "data.info()",
      "execution_count": 21,
      "outputs": [
        {
          "output_type": "stream",
          "text": "<class 'pandas.core.frame.DataFrame'>\nDatetimeIndex: 31642625 entries, 2014-03-03 12:42:00 to 2018-04-16 09:30:00\nData columns (total 8 columns):\nStationName               object\nDateTime                  datetime64[ns]\nRecordId                  int64\nRoadSurfaceTemperature    float64\nAirTemperature            float64\nyear                      int64\nmonth                     int64\nday                       int64\ndtypes: datetime64[ns](1), float64(2), int64(4), object(1)\nmemory usage: 2.7+ GB\n",
          "name": "stdout"
        }
      ]
    },
    {
      "metadata": {
        "trusted": true,
        "_uuid": "6384a917e479a318dbfd6acc4abe21453e10ace4"
      },
      "cell_type": "code",
      "source": "data.describe()",
      "execution_count": null,
      "outputs": []
    },
    {
      "metadata": {
        "trusted": true,
        "_uuid": "b34d5813ccdf6f5e293f9757de9e7d07a61230b1"
      },
      "cell_type": "code",
      "source": "data.StationName.value_counts()",
      "execution_count": null,
      "outputs": []
    },
    {
      "metadata": {
        "trusted": true,
        "scrolled": false,
        "_uuid": "71426183c783aa469015aa5ed526a8457383bd98"
      },
      "cell_type": "code",
      "source": "data.StationLocation.value_counts()",
      "execution_count": null,
      "outputs": []
    },
    {
      "metadata": {
        "_uuid": "d99fba387ae6272e8025a35c20f19d1370d1402a"
      },
      "cell_type": "markdown",
      "source": "**What information is changing relatively quickly (every day or hour)?**\n\nAirTemperature and RoadTemperature were recorded every minute since 2014 in each Station, So I would like to contrast the trend against other months and years.\n\n\n*What information is the most important to your mission?*\nThe AirTemperature and RoadTemperature in each Station\n\n*What will affect the choices you or others will need to make?*\n"
    },
    {
      "metadata": {
        "trusted": true,
        "_uuid": "a65890b1de434d481c0b39c082a525420870013b"
      },
      "cell_type": "code",
      "source": "data = data.set_index(\"DateTime\", drop=False)\ndata[\"year\"] = data.DateTime.dt.year\ndata[\"month\"] = data.DateTime.dt.month\ndata[\"day\"] = data.DateTime.dt.day",
      "execution_count": 3,
      "outputs": []
    },
    {
      "metadata": {
        "trusted": true,
        "_uuid": "c86fa0e0a77ff1f12a819524d3bef9a738d7ef11"
      },
      "cell_type": "code",
      "source": "data.head()",
      "execution_count": null,
      "outputs": []
    },
    {
      "metadata": {
        "_uuid": "bd553339d6a700f77eecabf23414ada3ed209400"
      },
      "cell_type": "markdown",
      "source": "The variable *StationLocation* should be splitted so as not to miss the opportunity to use latitude and longitude"
    },
    {
      "metadata": {
        "trusted": true,
        "_uuid": "a91784b9e01252b057feffac29d3e68c8c6f5baa"
      },
      "cell_type": "code",
      "source": "sns.set(style=\"white\", rc={\"axes.facecolor\": (0, 0, 0, 0)})\npal = sns.cubehelix_palette(10, rot=-.25, light=.7)\ng = sns.FacetGrid(data[data.month==2],col=\"year\", row=\"month\")\n\n#Plotting AirTemperature and RoadSurfaceTemperature splitted by Year month along days\ng.map(sns.lineplot, \"day\",\"AirTemperature\", legend=False, color=\"skyblue\", markers=True, dashes=False)\ng.map(sns.lineplot, \"day\",\"RoadSurfaceTemperature\", legend=False, color=\"saddlebrown\", dashes=True,  markers=True)\ng.fig.subplots_adjust(hspace=-.25)\n\n#Setting the axis\ng.set(ylabel=\"Temperature\")\ng.set(xlabel=\"Days\")\ng.set(xticks=\"\")\ng.despine(bottom=False, left=True)\n\n# Customizing the legend \nlegend = plt.legend([\"AirTemperature\",\"RoadSurfaceTemperature\"],loc=5,facecolor=\"inherit\")\nframe = legend.get_frame()\nframe.set_facecolor('white')\nframe.set_edgecolor('black')\n\nplt.show()",
      "execution_count": null,
      "outputs": []
    },
    {
      "metadata": {
        "_uuid": "8a2616660832f166649dedf6376db1b693fc2b70"
      },
      "cell_type": "markdown",
      "source": ""
    },
    {
      "metadata": {
        "trusted": true,
        "_uuid": "a8684f9589bd4436cbd2e17d0bc4948f7600c53e"
      },
      "cell_type": "markdown",
      "source": "# Choropleth - Geopandas "
    },
    {
      "metadata": {
        "trusted": true,
        "_uuid": "8e2001256ccc3ef75b25db03c22401517a1c882d"
      },
      "cell_type": "code",
      "source": "data['StationLocation'].apply(pd.Series)",
      "execution_count": null,
      "outputs": []
    },
    {
      "metadata": {
        "trusted": true,
        "_uuid": "2390fb22303fa31085e3bae3f1ec421ad5e82f98"
      },
      "cell_type": "code",
      "source": "dictionaries_stationlocation = data[\"StationLocation\"].apply(lambda x: eval(x))",
      "execution_count": 4,
      "outputs": []
    },
    {
      "metadata": {
        "trusted": true,
        "_uuid": "84dc64781cbc9938f08c3ea1aa72e7e524335cb3"
      },
      "cell_type": "code",
      "source": "data.drop(\"StationLocation\", axis=1, inplace=True)",
      "execution_count": 6,
      "outputs": []
    },
    {
      "metadata": {
        "trusted": true,
        "_uuid": "4de820c8e434b1c204745d611107aca853d82a8a"
      },
      "cell_type": "code",
      "source": "def downcast_dtypes(df):   \n    # Select columns to downcast\n    float_cols = [c for c in df if df[c].dtype == \"float64\"]\n    int_cols =   [c for c in df if df[c].dtype == \"int64\"]\n    \n    df[float_cols] = df[float_cols].astype(np.float32)\n    df[int_cols]   = df[int_cols].astype(np.int32)\n    return df",
      "execution_count": 20,
      "outputs": []
    },
    {
      "metadata": {
        "trusted": true,
        "_uuid": "002382e593327e63a1cf8d66c77ea5e2116cba3d"
      },
      "cell_type": "code",
      "source": "data = downcast_dtypes(data)",
      "execution_count": 22,
      "outputs": []
    },
    {
      "metadata": {
        "trusted": true,
        "_uuid": "77b89697adc66cc066f2f40919ee7ca75c41eea3"
      },
      "cell_type": "code",
      "source": "data[\"longitude\"] = dictionaries_stationlocation.apply(lambda x: x[\"longitude\"])",
      "execution_count": 23,
      "outputs": []
    },
    {
      "metadata": {
        "trusted": true,
        "_uuid": "0ede25896da9b1103ff74356c0df4a92f7a20126"
      },
      "cell_type": "code",
      "source": "data[\"latitude\"] = dictionaries_stationlocation.apply(lambda x: x[\"latitude\"])",
      "execution_count": 25,
      "outputs": []
    },
    {
      "metadata": {
        "trusted": true,
        "_uuid": "3b5675409418dad01c9b03e683ca267ab8b7506b"
      },
      "cell_type": "code",
      "source": "dictionaries_stationlocation = 0",
      "execution_count": 30,
      "outputs": []
    },
    {
      "metadata": {
        "trusted": true,
        "_uuid": "80736076357a3a06a3eb25296f945a793e6cc718"
      },
      "cell_type": "code",
      "source": "data = downcast_dtypes(data)",
      "execution_count": 26,
      "outputs": []
    },
    {
      "metadata": {
        "trusted": true,
        "_uuid": "cffe59dfb49f05786b6b2080436223a2408a3f95"
      },
      "cell_type": "code",
      "source": "data.head()",
      "execution_count": 28,
      "outputs": [
        {
          "output_type": "execute_result",
          "execution_count": 28,
          "data": {
            "text/plain": "                              StationName    ...     latitude\nDateTime                                     ...             \n2014-03-03 12:42:00  35thAveSW_SWMyrtleSt    ...     47.53918\n2014-03-03 12:43:00  35thAveSW_SWMyrtleSt    ...     47.53918\n2014-03-03 12:44:00  35thAveSW_SWMyrtleSt    ...     47.53918\n2014-03-03 12:45:00  35thAveSW_SWMyrtleSt    ...     47.53918\n2014-03-03 12:46:00  35thAveSW_SWMyrtleSt    ...     47.53918\n\n[5 rows x 10 columns]",
            "text/html": "<div>\n<style scoped>\n    .dataframe tbody tr th:only-of-type {\n        vertical-align: middle;\n    }\n\n    .dataframe tbody tr th {\n        vertical-align: top;\n    }\n\n    .dataframe thead th {\n        text-align: right;\n    }\n</style>\n<table border=\"1\" class=\"dataframe\">\n  <thead>\n    <tr style=\"text-align: right;\">\n      <th></th>\n      <th>StationName</th>\n      <th>DateTime</th>\n      <th>RecordId</th>\n      <th>RoadSurfaceTemperature</th>\n      <th>AirTemperature</th>\n      <th>year</th>\n      <th>month</th>\n      <th>day</th>\n      <th>longitude</th>\n      <th>latitude</th>\n    </tr>\n    <tr>\n      <th>DateTime</th>\n      <th></th>\n      <th></th>\n      <th></th>\n      <th></th>\n      <th></th>\n      <th></th>\n      <th></th>\n      <th></th>\n      <th></th>\n      <th></th>\n    </tr>\n  </thead>\n  <tbody>\n    <tr>\n      <th>2014-03-03 12:42:00</th>\n      <td>35thAveSW_SWMyrtleSt</td>\n      <td>2014-03-03 12:42:00</td>\n      <td>672560</td>\n      <td>53.88</td>\n      <td>53.88</td>\n      <td>2014</td>\n      <td>3</td>\n      <td>3</td>\n      <td>-122.37658</td>\n      <td>47.53918</td>\n    </tr>\n    <tr>\n      <th>2014-03-03 12:43:00</th>\n      <td>35thAveSW_SWMyrtleSt</td>\n      <td>2014-03-03 12:43:00</td>\n      <td>672561</td>\n      <td>54.05</td>\n      <td>54.05</td>\n      <td>2014</td>\n      <td>3</td>\n      <td>3</td>\n      <td>-122.37658</td>\n      <td>47.53918</td>\n    </tr>\n    <tr>\n      <th>2014-03-03 12:44:00</th>\n      <td>35thAveSW_SWMyrtleSt</td>\n      <td>2014-03-03 12:44:00</td>\n      <td>672562</td>\n      <td>54.21</td>\n      <td>54.21</td>\n      <td>2014</td>\n      <td>3</td>\n      <td>3</td>\n      <td>-122.37658</td>\n      <td>47.53918</td>\n    </tr>\n    <tr>\n      <th>2014-03-03 12:45:00</th>\n      <td>35thAveSW_SWMyrtleSt</td>\n      <td>2014-03-03 12:45:00</td>\n      <td>672563</td>\n      <td>54.38</td>\n      <td>54.38</td>\n      <td>2014</td>\n      <td>3</td>\n      <td>3</td>\n      <td>-122.37658</td>\n      <td>47.53918</td>\n    </tr>\n    <tr>\n      <th>2014-03-03 12:46:00</th>\n      <td>35thAveSW_SWMyrtleSt</td>\n      <td>2014-03-03 12:46:00</td>\n      <td>672564</td>\n      <td>54.54</td>\n      <td>54.54</td>\n      <td>2014</td>\n      <td>3</td>\n      <td>3</td>\n      <td>-122.37658</td>\n      <td>47.53918</td>\n    </tr>\n  </tbody>\n</table>\n</div>"
          },
          "metadata": {}
        }
      ]
    },
    {
      "metadata": {
        "trusted": true,
        "_uuid": "719ddcc1c4445046b01196a94ba9c2d6c3c47ee7"
      },
      "cell_type": "code",
      "source": "from shapely.geometry import Point\ndata['geometry'] = data.apply(lambda x: Point((x.longitude, x.latitude)),axis = 1)",
      "execution_count": 32,
      "outputs": [
        {
          "output_type": "error",
          "ename": "OSError",
          "evalue": "Could not find lib c or load any of its variants [].",
          "traceback": [
            "\u001b[0;31m---------------------------------------------------------------------------\u001b[0m",
            "\u001b[0;31mOSError\u001b[0m                                   Traceback (most recent call last)",
            "\u001b[0;32m<ipython-input-32-c6ac610c64dc>\u001b[0m in \u001b[0;36m<module>\u001b[0;34m()\u001b[0m\n\u001b[0;32m----> 1\u001b[0;31m \u001b[0;32mfrom\u001b[0m \u001b[0mshapely\u001b[0m\u001b[0;34m.\u001b[0m\u001b[0mgeometry\u001b[0m \u001b[0;32mimport\u001b[0m \u001b[0mPoint\u001b[0m\u001b[0;34m\u001b[0m\u001b[0m\n\u001b[0m\u001b[1;32m      2\u001b[0m \u001b[0mdata\u001b[0m\u001b[0;34m[\u001b[0m\u001b[0;34m'geometry'\u001b[0m\u001b[0;34m]\u001b[0m \u001b[0;34m=\u001b[0m \u001b[0mdata\u001b[0m\u001b[0;34m.\u001b[0m\u001b[0mapply\u001b[0m\u001b[0;34m(\u001b[0m\u001b[0;32mlambda\u001b[0m \u001b[0mx\u001b[0m\u001b[0;34m:\u001b[0m \u001b[0mPoint\u001b[0m\u001b[0;34m(\u001b[0m\u001b[0;34m(\u001b[0m\u001b[0mx\u001b[0m\u001b[0;34m.\u001b[0m\u001b[0mlongitude\u001b[0m\u001b[0;34m,\u001b[0m \u001b[0mx\u001b[0m\u001b[0;34m.\u001b[0m\u001b[0mlatitude\u001b[0m\u001b[0;34m)\u001b[0m\u001b[0;34m)\u001b[0m\u001b[0;34m,\u001b[0m\u001b[0maxis\u001b[0m \u001b[0;34m=\u001b[0m \u001b[0;36m1\u001b[0m\u001b[0;34m)\u001b[0m\u001b[0;34m\u001b[0m\u001b[0m\n",
            "\u001b[0;32m/opt/conda/lib/python3.6/site-packages/shapely/geometry/__init__.py\u001b[0m in \u001b[0;36m<module>\u001b[0;34m()\u001b[0m\n\u001b[1;32m      2\u001b[0m \"\"\"\n\u001b[1;32m      3\u001b[0m \u001b[0;34m\u001b[0m\u001b[0m\n\u001b[0;32m----> 4\u001b[0;31m \u001b[0;32mfrom\u001b[0m \u001b[0;34m.\u001b[0m\u001b[0mbase\u001b[0m \u001b[0;32mimport\u001b[0m \u001b[0mCAP_STYLE\u001b[0m\u001b[0;34m,\u001b[0m \u001b[0mJOIN_STYLE\u001b[0m\u001b[0;34m\u001b[0m\u001b[0m\n\u001b[0m\u001b[1;32m      5\u001b[0m \u001b[0;32mfrom\u001b[0m \u001b[0;34m.\u001b[0m\u001b[0mgeo\u001b[0m \u001b[0;32mimport\u001b[0m \u001b[0mbox\u001b[0m\u001b[0;34m,\u001b[0m \u001b[0mshape\u001b[0m\u001b[0;34m,\u001b[0m \u001b[0masShape\u001b[0m\u001b[0;34m,\u001b[0m \u001b[0mmapping\u001b[0m\u001b[0;34m\u001b[0m\u001b[0m\n\u001b[1;32m      6\u001b[0m \u001b[0;32mfrom\u001b[0m \u001b[0;34m.\u001b[0m\u001b[0mpoint\u001b[0m \u001b[0;32mimport\u001b[0m \u001b[0mPoint\u001b[0m\u001b[0;34m,\u001b[0m \u001b[0masPoint\u001b[0m\u001b[0;34m\u001b[0m\u001b[0m\n",
            "\u001b[0;32m/opt/conda/lib/python3.6/site-packages/shapely/geometry/base.py\u001b[0m in \u001b[0;36m<module>\u001b[0;34m()\u001b[0m\n\u001b[1;32m     15\u001b[0m \u001b[0;34m\u001b[0m\u001b[0m\n\u001b[1;32m     16\u001b[0m \u001b[0;32mfrom\u001b[0m \u001b[0mshapely\u001b[0m\u001b[0;34m.\u001b[0m\u001b[0maffinity\u001b[0m \u001b[0;32mimport\u001b[0m \u001b[0maffine_transform\u001b[0m\u001b[0;34m\u001b[0m\u001b[0m\n\u001b[0;32m---> 17\u001b[0;31m \u001b[0;32mfrom\u001b[0m \u001b[0mshapely\u001b[0m\u001b[0;34m.\u001b[0m\u001b[0mcoords\u001b[0m \u001b[0;32mimport\u001b[0m \u001b[0mCoordinateSequence\u001b[0m\u001b[0;34m\u001b[0m\u001b[0m\n\u001b[0m\u001b[1;32m     18\u001b[0m \u001b[0;32mfrom\u001b[0m \u001b[0mshapely\u001b[0m\u001b[0;34m.\u001b[0m\u001b[0merrors\u001b[0m \u001b[0;32mimport\u001b[0m \u001b[0mWKBReadingError\u001b[0m\u001b[0;34m,\u001b[0m \u001b[0mWKTReadingError\u001b[0m\u001b[0;34m\u001b[0m\u001b[0m\n\u001b[1;32m     19\u001b[0m \u001b[0;32mfrom\u001b[0m \u001b[0mshapely\u001b[0m\u001b[0;34m.\u001b[0m\u001b[0mftools\u001b[0m \u001b[0;32mimport\u001b[0m \u001b[0mwraps\u001b[0m\u001b[0;34m\u001b[0m\u001b[0m\n",
            "\u001b[0;32m/opt/conda/lib/python3.6/site-packages/shapely/coords.py\u001b[0m in \u001b[0;36m<module>\u001b[0;34m()\u001b[0m\n\u001b[1;32m      6\u001b[0m \u001b[0;32mfrom\u001b[0m \u001b[0mctypes\u001b[0m \u001b[0;32mimport\u001b[0m \u001b[0mbyref\u001b[0m\u001b[0;34m,\u001b[0m \u001b[0mc_double\u001b[0m\u001b[0;34m,\u001b[0m \u001b[0mc_uint\u001b[0m\u001b[0;34m\u001b[0m\u001b[0m\n\u001b[1;32m      7\u001b[0m \u001b[0;34m\u001b[0m\u001b[0m\n\u001b[0;32m----> 8\u001b[0;31m \u001b[0;32mfrom\u001b[0m \u001b[0mshapely\u001b[0m\u001b[0;34m.\u001b[0m\u001b[0mgeos\u001b[0m \u001b[0;32mimport\u001b[0m \u001b[0mlgeos\u001b[0m\u001b[0;34m\u001b[0m\u001b[0m\n\u001b[0m\u001b[1;32m      9\u001b[0m \u001b[0;32mfrom\u001b[0m \u001b[0mshapely\u001b[0m\u001b[0;34m.\u001b[0m\u001b[0mtopology\u001b[0m \u001b[0;32mimport\u001b[0m \u001b[0mValidating\u001b[0m\u001b[0;34m\u001b[0m\u001b[0m\n\u001b[1;32m     10\u001b[0m \u001b[0;34m\u001b[0m\u001b[0m\n",
            "\u001b[0;32m/opt/conda/lib/python3.6/site-packages/shapely/geos.py\u001b[0m in \u001b[0;36m<module>\u001b[0;34m()\u001b[0m\n\u001b[1;32m     74\u001b[0m         ]\n\u001b[1;32m     75\u001b[0m         \u001b[0m_lgeos\u001b[0m \u001b[0;34m=\u001b[0m \u001b[0mload_dll\u001b[0m\u001b[0;34m(\u001b[0m\u001b[0;34m'geos_c'\u001b[0m\u001b[0;34m,\u001b[0m \u001b[0mfallbacks\u001b[0m\u001b[0;34m=\u001b[0m\u001b[0malt_paths\u001b[0m\u001b[0;34m)\u001b[0m\u001b[0;34m\u001b[0m\u001b[0m\n\u001b[0;32m---> 76\u001b[0;31m     \u001b[0mfree\u001b[0m \u001b[0;34m=\u001b[0m \u001b[0mload_dll\u001b[0m\u001b[0;34m(\u001b[0m\u001b[0;34m'c'\u001b[0m\u001b[0;34m)\u001b[0m\u001b[0;34m.\u001b[0m\u001b[0mfree\u001b[0m\u001b[0;34m\u001b[0m\u001b[0m\n\u001b[0m\u001b[1;32m     77\u001b[0m     \u001b[0mfree\u001b[0m\u001b[0;34m.\u001b[0m\u001b[0margtypes\u001b[0m \u001b[0;34m=\u001b[0m \u001b[0;34m[\u001b[0m\u001b[0mc_void_p\u001b[0m\u001b[0;34m]\u001b[0m\u001b[0;34m\u001b[0m\u001b[0m\n\u001b[1;32m     78\u001b[0m     \u001b[0mfree\u001b[0m\u001b[0;34m.\u001b[0m\u001b[0mrestype\u001b[0m \u001b[0;34m=\u001b[0m \u001b[0;32mNone\u001b[0m\u001b[0;34m\u001b[0m\u001b[0m\n",
            "\u001b[0;32m/opt/conda/lib/python3.6/site-packages/shapely/geos.py\u001b[0m in \u001b[0;36mload_dll\u001b[0;34m(libname, fallbacks, mode)\u001b[0m\n\u001b[1;32m     54\u001b[0m         raise OSError(\n\u001b[1;32m     55\u001b[0m             \"Could not find lib {0} or load any of its variants {1}.\".format(\n\u001b[0;32m---> 56\u001b[0;31m                 libname, fallbacks or []))\n\u001b[0m\u001b[1;32m     57\u001b[0m \u001b[0;34m\u001b[0m\u001b[0m\n\u001b[1;32m     58\u001b[0m \u001b[0m_lgeos\u001b[0m \u001b[0;34m=\u001b[0m \u001b[0;32mNone\u001b[0m\u001b[0;34m\u001b[0m\u001b[0m\n",
            "\u001b[0;31mOSError\u001b[0m: Could not find lib c or load any of its variants []."
          ]
        }
      ]
    },
    {
      "metadata": {
        "trusted": true,
        "_uuid": "1d09f7d368c9f52715df750d1490ce59a70fa894"
      },
      "cell_type": "code",
      "source": "",
      "execution_count": null,
      "outputs": []
    },
    {
      "metadata": {
        "trusted": true,
        "_uuid": "ce3b6441bbe3c5c0aace690df56b49fd7e802488"
      },
      "cell_type": "code",
      "source": "",
      "execution_count": null,
      "outputs": []
    },
    {
      "metadata": {
        "trusted": true,
        "_uuid": "17d65d462c0da54e911ff42a881823ca3f843462"
      },
      "cell_type": "code",
      "source": "",
      "execution_count": null,
      "outputs": []
    },
    {
      "metadata": {
        "trusted": true,
        "_uuid": "1f979794eb7b5481672e628c76cafd58b2c856b4"
      },
      "cell_type": "code",
      "source": "",
      "execution_count": null,
      "outputs": []
    }
  ],
  "metadata": {
    "kernelspec": {
      "display_name": "Python 3",
      "language": "python",
      "name": "python3"
    },
    "language_info": {
      "name": "python",
      "version": "3.6.6",
      "mimetype": "text/x-python",
      "codemirror_mode": {
        "name": "ipython",
        "version": 3
      },
      "pygments_lexer": "ipython3",
      "nbconvert_exporter": "python",
      "file_extension": ".py"
    }
  },
  "nbformat": 4,
  "nbformat_minor": 1
}